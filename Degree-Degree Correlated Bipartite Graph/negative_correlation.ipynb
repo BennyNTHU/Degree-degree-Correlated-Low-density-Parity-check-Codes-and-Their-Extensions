{
 "cells": [
  {
   "cell_type": "code",
   "execution_count": 1,
   "metadata": {},
   "outputs": [],
   "source": [
    "import networkx as nx\n",
    "import random\n",
    "import numpy as np\n",
    "import time\n",
    "import csv\n",
    "import os\n",
    "import sys\n",
    "from tqdm import tqdm\n",
    "from networkx.algorithms import bipartite\n",
    "from numpy.random import poisson\n",
    "import matplotlib.pyplot as plt"
   ]
  },
  {
   "cell_type": "code",
   "execution_count": 2,
   "metadata": {},
   "outputs": [],
   "source": [
    "random.seed(time.time()) # random seeds\n",
    "if not os.path.exists(\"results/\") : os.mkdir(\"results/\")"
   ]
  },
  {
   "cell_type": "markdown",
   "metadata": {},
   "source": [
    "## 建立有Negative Degree Correlation的Bipartite Graph\n",
    "\n",
    "實作步驟：\n",
    "1. 設有一個bipartite graph，左邊的頂點為transmitter $T$，右邊為reciever $R$，數量均為10000\n",
    "2. 建立一個Poisson degree sequence $t_k$給tansmitter，作為stub的數量\n",
    "\n",
    "    (1) 計算$t_k$的和$m_T$與平均值$\\lambda_t$\n",
    "    \n",
    "    (2) 以$\\lambda_t$作為seed生成另一個Poisson degree sequence $r_k$給reciever，作為stub的數量\n",
    "    \n",
    "    (3) 計算$r_k$之和$m_R$，$m_T$與$m_R$不相等時，隨機從$r_k$挑出部分stub進行修改\n",
    "\n",
    "3. 將此bipartite graph建立起來，但先不連結邊\n",
    "4. 建立Stubs\n",
    "\n",
    "    (1) 隨機指定$T$中比例為$q$的stub為type 1 stub，其餘為type2 stub。\n",
    "    \n",
    "    (2) 將$T$中的stub隨機等分成兩個block\n",
    "    \n",
    "    (3) 對$R$亦如是\n",
    "    \n",
    "5. 將邊連起來：自$T$中任意選一stub，\n",
    "\n",
    "    (1) 若是block 1中的type 1 stub，就連到$R$中block 2的type 1 stub。若是type 2 stub就連到$R$中任意的type 2 stub。\n",
    "    \n",
    "    (2) 若是block 2中的type 1 stub，就連到$R$中block 1的type 1 stub。若是type 2 stub就連到$R$中任意的type 2 stub。\n",
    "    \n",
    "6. 重複此實驗100次，畫四張圖：x軸是$q$從0取到1間隔0.1，這11個值。\n",
    "\n",
    "    (1) 第一張圖的y軸是相對應的cov的值\n",
    "    \n",
    "    (2) 第二張圖的y軸是cor的值\n",
    "    \n",
    "    (3) 第四張圖$\\text{the ratio of giant component size}/(N+M)$\n",
    "    \n",
    "    (4) 第三張圖是SIC解出的指標，一個指標可以是：$$\\frac{\\text{成功解出的edge總數}}{\\text{graph中edge的總數}}$$"
   ]
  },
  {
   "cell_type": "markdown",
   "metadata": {},
   "source": [
    "## Issues:\n",
    "1. 讓$N$可以不等於$M$(已解決)\n",
    "2. 讓$q$可以取值在0或1(已解決)\n",
    "3. degree是0的點要刪掉(已解決)\n",
    "4. degree相同的點必須位於同一個block之中，但每個block的stub總數仍要相同(已解決)"
   ]
  },
  {
   "cell_type": "markdown",
   "metadata": {},
   "source": [
    "## Step 1\n",
    "設定實驗參數"
   ]
  },
  {
   "cell_type": "code",
   "execution_count": 3,
   "metadata": {},
   "outputs": [],
   "source": [
    "LAM = 5 # Poisson degree distribution\n",
    "N = 10000 # Number of transmitter\n",
    "M = 10000 # Number of reciever\n",
    "# q = float(sys.argv[1])\n",
    "q = 1 # type 1 stub ratio"
   ]
  },
  {
   "cell_type": "markdown",
   "metadata": {},
   "source": [
    "### Step 2"
   ]
  },
  {
   "cell_type": "markdown",
   "metadata": {},
   "source": [
    "製造兩個degree sequence"
   ]
  },
  {
   "cell_type": "code",
   "execution_count": 4,
   "metadata": {},
   "outputs": [],
   "source": [
    "tk = poisson(lam = LAM, size = N) # Generate integer sequence\n",
    "rk = poisson(lam = LAM, size = M)"
   ]
  },
  {
   "cell_type": "markdown",
   "metadata": {},
   "source": [
    "若有degree為0的點，則補一個stub給它"
   ]
  },
  {
   "cell_type": "code",
   "execution_count": 5,
   "metadata": {},
   "outputs": [],
   "source": [
    "tk = [1 if i==0 else i for i in tk]\n",
    "rk = [1 if i==0 else i for i in rk]"
   ]
  },
  {
   "cell_type": "markdown",
   "metadata": {},
   "source": [
    "讓所有degree的和相同"
   ]
  },
  {
   "cell_type": "code",
   "execution_count": 6,
   "metadata": {},
   "outputs": [],
   "source": [
    "n = sum(tk) - sum(rk)\n",
    "if (n < 0): # transmitter端stub比較少\n",
    "    for i in range(0,-n):\n",
    "        index = random.choice(list(range(0,N)))\n",
    "        tk[index] = tk[index] + 1\n",
    "elif (n > 0): # reiever端stub比較少\n",
    "    for i in range(0,n):\n",
    "        index = random.choice(list(range(0,M)))\n",
    "        rk[index] = rk[index] + 1\n",
    "else:\n",
    "    pass"
   ]
  },
  {
   "cell_type": "markdown",
   "metadata": {},
   "source": [
    "調整degree總數為偶數"
   ]
  },
  {
   "cell_type": "code",
   "execution_count": 7,
   "metadata": {},
   "outputs": [],
   "source": [
    "if (sum(tk)%2 != 0): # \n",
    "    index = random.choice(list(range(0,N)))\n",
    "    tk[index] = tk[index] + 1\n",
    "    index = random.choice(list(range(0,M)))\n",
    "    rk[index] = rk[index] + 1"
   ]
  },
  {
   "cell_type": "markdown",
   "metadata": {},
   "source": [
    "經過這些處理之後，transmitter端與reciever端具有相同的stub數(degree)以外，也能確保整個bipartite graph的degree是偶數"
   ]
  },
  {
   "cell_type": "code",
   "execution_count": 8,
   "metadata": {},
   "outputs": [],
   "source": [
    "rk = sorted(rk, reverse=True) # sort 2m stubs in descending order\n",
    "tk = sorted(tk, reverse=True)\n",
    "degree_transmitter = sum(tk)\n",
    "degree_reciever = sum(rk)"
   ]
  },
  {
   "cell_type": "code",
   "execution_count": 9,
   "metadata": {},
   "outputs": [],
   "source": [
    "# print(rk)\n",
    "# print(tk)\n",
    "# print(degree_transmitter)\n",
    "# print(degree_reciever)"
   ]
  },
  {
   "cell_type": "markdown",
   "metadata": {},
   "source": [
    "### Step 3\n",
    "現在將此bipartite graph建立起來，且已經保證所有頂點的degree不為0"
   ]
  },
  {
   "cell_type": "code",
   "execution_count": 10,
   "metadata": {},
   "outputs": [],
   "source": [
    "transmitter_node_degree_dict = {}\n",
    "for nodes in range(0,N): # The nodes are named after 0~N-1\n",
    "    transmitter_node_degree_dict[nodes] = tk[nodes]"
   ]
  },
  {
   "cell_type": "code",
   "execution_count": 11,
   "metadata": {},
   "outputs": [],
   "source": [
    "# transmitter_node_degree_dict # degree sequence"
   ]
  },
  {
   "cell_type": "code",
   "execution_count": 12,
   "metadata": {},
   "outputs": [],
   "source": [
    "reciever_node_degree_dict = {}\n",
    "for nodes in range(0,M): # The nodes are named after '0'~'N-1'\n",
    "    reciever_node_degree_dict[str(nodes)] = rk[nodes]"
   ]
  },
  {
   "cell_type": "code",
   "execution_count": 13,
   "metadata": {},
   "outputs": [],
   "source": [
    "model = nx.Graph()\n",
    "model.add_nodes_from(transmitter_node_degree_dict.keys(), bipartite=0)\n",
    "model.add_nodes_from(reciever_node_degree_dict.keys(), bipartite=1)"
   ]
  },
  {
   "cell_type": "code",
   "execution_count": 14,
   "metadata": {},
   "outputs": [],
   "source": [
    "del tk, rk"
   ]
  },
  {
   "cell_type": "markdown",
   "metadata": {},
   "source": [
    "### Step 4"
   ]
  },
  {
   "cell_type": "markdown",
   "metadata": {},
   "source": [
    "建立transmitter和reciever的stub"
   ]
  },
  {
   "cell_type": "code",
   "execution_count": 15,
   "metadata": {},
   "outputs": [],
   "source": [
    "class Stubs():\n",
    "    def __init__(self, node, stubtype, block):\n",
    "        self.node = node\n",
    "        self.stubtype = stubtype\n",
    "        self.block = block\n",
    "    \n",
    "    def get_node(self):\n",
    "        return self.node\n",
    "    \n",
    "    def get_stubtype(self):\n",
    "        return self.stubtype\n",
    "    \n",
    "    def get_block(self):\n",
    "        return self.block"
   ]
  },
  {
   "cell_type": "code",
   "execution_count": 16,
   "metadata": {},
   "outputs": [],
   "source": [
    "transmitter_stubs = []\n",
    "for nodes in transmitter_node_degree_dict.keys():\n",
    "    for degree in range(0, transmitter_node_degree_dict[nodes]):\n",
    "        transmitter_stubs.append(Stubs(nodes, 2, 1))"
   ]
  },
  {
   "cell_type": "code",
   "execution_count": 17,
   "metadata": {},
   "outputs": [],
   "source": [
    "reciever_stubs = []\n",
    "for nodes in reciever_node_degree_dict.keys():\n",
    "    for degree in range(0, reciever_node_degree_dict[nodes]):  \n",
    "        reciever_stubs.append(Stubs(nodes, 2, 1))"
   ]
  },
  {
   "cell_type": "markdown",
   "metadata": {},
   "source": [
    "指定block。這個過程中必須遵守三個原則：\n",
    "1. 同一個頂點的所有stub必須位於同一stub\n",
    "2. degree相同的所有頂點的所有stub必須位於同一個block之中\n",
    "3. 每個block的stub總數仍要相同\n",
    "\n",
    "若有不符合之處可再加stub，但必須滿足stub的總數必須是偶數的原則。\n",
    "\n",
    "首先我們先滿足條件1與2，再來執行條件3。滿足條件1的方式是先選出pivot這個stub，pivot是第m/2個stub。接著，把所有跟pivot在同一node上的stub加進block 1中，也把degree與該頂點相同的所有頂點上的所有stub加進block 1中，剩下的加入block 2。因此pivot會位於block 1之中。"
   ]
  },
  {
   "cell_type": "code",
   "execution_count": 18,
   "metadata": {},
   "outputs": [],
   "source": [
    "pivot_index = int(degree_transmitter / 2)\n",
    "pivot = transmitter_stubs[pivot_index-1] # 第m/2個stub\n",
    "transmitter_block1 = transmitter_stubs[0:pivot_index] # 屬於degree較大的點\n",
    "transmitter_block2 = transmitter_stubs[pivot_index:] # 屬於degree較小的點"
   ]
  },
  {
   "cell_type": "markdown",
   "metadata": {},
   "source": [
    "執行原則1"
   ]
  },
  {
   "cell_type": "code",
   "execution_count": 19,
   "metadata": {},
   "outputs": [],
   "source": [
    "transmitter_block1.extend(list(filter(lambda x: (x.get_node() == pivot.get_node()), transmitter_block2)))\n",
    "transmitter_block2 = list(filter(lambda x: (x.get_node() != pivot.get_node()), transmitter_block2))"
   ]
  },
  {
   "cell_type": "markdown",
   "metadata": {},
   "source": [
    "執行原則2與3"
   ]
  },
  {
   "cell_type": "code",
   "execution_count": 20,
   "metadata": {},
   "outputs": [],
   "source": [
    "stubs_degree_toolarge = list(filter(lambda x: (transmitter_node_degree_dict[x.get_node()] \n",
    "                                               == transmitter_node_degree_dict[pivot.get_node()]), \n",
    "                                    transmitter_block2)) \n",
    "nodes_too_large = np.unique([stubs.get_node() for stubs in stubs_degree_toolarge])\n",
    "# 等等需要增加的stub數目x=要刪掉的stub數+執行原則1後所需補的數目\n",
    "x = len(nodes_too_large) + len(transmitter_block1) - len(transmitter_block2)"
   ]
  },
  {
   "cell_type": "code",
   "execution_count": 21,
   "metadata": {},
   "outputs": [],
   "source": [
    "# 此stub所連的node的degree跟pivot一樣大\n",
    "for stubs in transmitter_block2: # 自所有degree跟pivot一樣大的點刪掉一個stub\n",
    "    this = stubs.get_node()\n",
    "    if ((this in nodes_too_large) and \n",
    "        (transmitter_node_degree_dict[this] == transmitter_node_degree_dict[pivot.get_node()])):\n",
    "        transmitter_node_degree_dict[this] -= 1 # update degree sequence\n",
    "        transmitter_block2.remove(stubs) # 刪除的動作"
   ]
  },
  {
   "cell_type": "code",
   "execution_count": 22,
   "metadata": {},
   "outputs": [],
   "source": [
    "b = [] # 候選點\n",
    "block_2_node = np.unique([stubs.get_node() for stubs in transmitter_block2])\n",
    "for nodes in block_2_node:\n",
    "    if ((transmitter_node_degree_dict[pivot.get_node()] - transmitter_node_degree_dict[nodes] > 1) and \n",
    "        (transmitter_node_degree_dict[pivot.get_node()] - transmitter_node_degree_dict[nodes] < 4)):\n",
    "        # degree小2的可以補一個stub,degree小3的可以補兩個stub\n",
    "        for i in range(0, transmitter_node_degree_dict[pivot.get_node()] - \n",
    "                       transmitter_node_degree_dict[nodes] - 1):\n",
    "            b.append(Stubs(nodes, 2, 1))"
   ]
  },
  {
   "cell_type": "code",
   "execution_count": 23,
   "metadata": {},
   "outputs": [],
   "source": [
    "assert (x < len(b)), '實驗失敗 請重新生成模型' # 若2,3無法被完成，則實驗失敗"
   ]
  },
  {
   "cell_type": "code",
   "execution_count": 24,
   "metadata": {},
   "outputs": [],
   "source": [
    "while (x > 0 and len(b) > 0):\n",
    "    i = random.choice(list(range(0, len(b))))\n",
    "    # 自block 2隨機抽出一stub，且保證此stub所屬之點的degree之值為(pivot所屬之點的degree-2 or degree-3)\n",
    "    this = b[i].get_node() \n",
    "    transmitter_node_degree_dict[this] += 1 # update degree sequence\n",
    "    transmitter_block2.append(Stubs(this, 2, 1)) # 增加一個stub\n",
    "    x = x - 1\n",
    "    b.pop(i)"
   ]
  },
  {
   "cell_type": "code",
   "execution_count": 25,
   "metadata": {},
   "outputs": [],
   "source": [
    "for stubs in transmitter_block2:\n",
    "    stubs.block = 2"
   ]
  },
  {
   "cell_type": "markdown",
   "metadata": {},
   "source": [
    "對Reciever進行一樣的操作"
   ]
  },
  {
   "cell_type": "code",
   "execution_count": 26,
   "metadata": {},
   "outputs": [],
   "source": [
    "pivot_index = int(degree_reciever / 2)\n",
    "pivot = reciever_stubs[pivot_index-1] # 第m/2個stub\n",
    "reciever_block1 = reciever_stubs[0:pivot_index] # 屬於degree較大的點\n",
    "reciever_block2 = reciever_stubs[pivot_index:] # 屬於degree較小的點\n",
    "\n",
    "reciever_block1.extend(list(filter(lambda x: (x.get_node() == pivot.get_node()), reciever_block2)))\n",
    "reciever_block2 = list(filter(lambda x: (x.get_node() != pivot.get_node()), reciever_block2))\n",
    "\n",
    "stubs_degree_toolarge = list(filter(lambda x: (reciever_node_degree_dict[x.get_node()] \n",
    "                                               == reciever_node_degree_dict[pivot.get_node()]), \n",
    "                                    reciever_block2)) \n",
    "nodes_too_large = np.unique([stubs.get_node() for stubs in stubs_degree_toolarge])\n",
    "# 等等需要增加的stub數目x=要刪掉的stub數+執行原則1後所需補的數目\n",
    "x = len(nodes_too_large) + len(reciever_block1) - len(reciever_block2)\n",
    "\n",
    "# 此stub所連的node的degree跟pivot一樣大\n",
    "for stubs in reciever_block2: # 自所有degree跟pivot一樣大的點刪掉一個stub\n",
    "    this = stubs.get_node()\n",
    "    if ((this in nodes_too_large) and \n",
    "        (reciever_node_degree_dict[this] == reciever_node_degree_dict[pivot.get_node()])):\n",
    "        reciever_node_degree_dict[this] -= 1 # update degree sequence\n",
    "        reciever_block2.remove(stubs) # 刪除的動作\n",
    "        \n",
    "b = [] # 候選點\n",
    "block_2_node = np.unique([stubs.get_node() for stubs in reciever_block2])\n",
    "for nodes in block_2_node:\n",
    "    if ((reciever_node_degree_dict[pivot.get_node()] - reciever_node_degree_dict[nodes] > 1) and \n",
    "        (reciever_node_degree_dict[pivot.get_node()] - reciever_node_degree_dict[nodes] < 4)):\n",
    "        # degree小2的可以補一個stub,degree小3的可以補兩個stub\n",
    "        for i in range(0, reciever_node_degree_dict[pivot.get_node()] - \n",
    "                       reciever_node_degree_dict[nodes] - 1):\n",
    "            b.append(Stubs(nodes, 2, 1))\n",
    "            \n",
    "assert (x < len(b)), '實驗失敗 請重新生成模型' # 若2,3無法被完成，則實驗失敗\n",
    "\n",
    "while (x > 0 and len(b) > 0):\n",
    "    i = random.choice(list(range(0, len(b))))\n",
    "    # 自block 2隨機抽出一stub，且保證此stub所屬之點的degree之值為(pivot所屬之點的degree-2 or degree-3)\n",
    "    this = b[i].get_node() \n",
    "    reciever_node_degree_dict[this] += 1 # update degree sequence\n",
    "    reciever_block2.append(Stubs(this, 2, 1)) # 增加一個stub\n",
    "    x = x - 1\n",
    "    b.pop(i)\n",
    "\n",
    "for stubs in reciever_block2:\n",
    "    stubs.block = 2"
   ]
  },
  {
   "cell_type": "code",
   "execution_count": 27,
   "metadata": {},
   "outputs": [],
   "source": [
    "del b, stubs_degree_toolarge, nodes_too_large"
   ]
  },
  {
   "cell_type": "markdown",
   "metadata": {},
   "source": [
    "這時候transmitter的degree和reciever的degree不一定相同。調整的方法是：誰比較少就把誰補滿。假設今天是transmitter比較少：\n",
    "1. block 1因為是大degree，所以亂補也沒關係\n",
    "2. 設block 2的頂點中最大的degree是$d$，則只有補degree比$d$小的點可以補，可以補的數量是$d-$該點degree"
   ]
  },
  {
   "cell_type": "code",
   "execution_count": 28,
   "metadata": {},
   "outputs": [],
   "source": [
    "x = len(transmitter_block2) - len(reciever_block2) # 每個block要補多少"
   ]
  },
  {
   "cell_type": "code",
   "execution_count": 29,
   "metadata": {},
   "outputs": [],
   "source": [
    "if (x > 0): # reciever比較少\n",
    "    block_1_node = np.unique([stubs.get_node() for stubs in reciever_block1]) \n",
    "    block_2_node = np.unique([stubs.get_node() for stubs in reciever_block2])\n",
    "    \n",
    "    # block 2不能亂補，必須要小於其中degree最大值的才可以補\n",
    "    max_degree_block2 = max([reciever_node_degree_dict[nodes] for nodes in block_2_node]) # 找出block 2中最大的degree\n",
    "    b2 = [] # 可以用來補的stub候選清單\n",
    "    for nodes in block_2_node:\n",
    "        if (reciever_node_degree_dict[nodes] < max_degree_block2): # 小於其中degree最大值的node才可以補\n",
    "            for i in range(0, max_degree_block2 - reciever_node_degree_dict[nodes]): # 可以補的數量\n",
    "                b2.append(Stubs(nodes, 2, 2)) # block 2\n",
    "\n",
    "    assert (x < len(b2)), '實驗失敗 請重新生成圖片' # 若block 2無法補齊，則實驗失敗\n",
    "    \n",
    "    for i in range(0, x):\n",
    "        i = random.choice(list(range(0, len(b2))))\n",
    "        node = b2[i].get_node() # 自候選清單中隨機抽出一stub\n",
    "        reciever_node_degree_dict[node] += 1 # update degree sequence\n",
    "        reciever_block2.append(Stubs(node, 2, 2)) # 增加一個stub\n",
    "        b2.pop(i)\n",
    "    \n",
    "    # block 1可以亂補\n",
    "    for i in range(0, x):\n",
    "        j = random.choice(list(range(0, len(block_1_node))))\n",
    "        node = block_1_node[j] # 自block 1隨機抽出一node\n",
    "        reciever_node_degree_dict[node] += 1 # update degree sequence\n",
    "        reciever_block1.append(Stubs(node, 2, 1)) # 增加一個stub\n",
    "        \n",
    "    del b2, block_1_node, block_2_node"
   ]
  },
  {
   "cell_type": "code",
   "execution_count": 30,
   "metadata": {},
   "outputs": [],
   "source": [
    "if (x < 0): # transmitter比較少\n",
    "    x = abs(x)\n",
    "    block_1_node = np.unique([stubs.get_node() for stubs in transmitter_block1]) \n",
    "    block_2_node = np.unique([stubs.get_node() for stubs in transmitter_block2])\n",
    "    \n",
    "    # block 2不能亂補，必須要小於其中degree最大值的才可以補\n",
    "    max_degree_block2 = max([transmitter_node_degree_dict[nodes] for nodes in block_2_node]) # 找出block 2中最大的degree\n",
    "    b2 = [] # 可以用來補的stub候選清單\n",
    "    for nodes in block_2_node:\n",
    "        if (transmitter_node_degree_dict[nodes] < max_degree_block2): # 小於其中degree最大值的node才可以補\n",
    "            for i in range(0, max_degree_block2 - transmitter_node_degree_dict[nodes]): # 可以補的數量\n",
    "                b2.append(Stubs(nodes, 2, 2)) # block 2\n",
    "\n",
    "    assert (x < len(b2)), '實驗失敗 請重新生成圖片' # 若block 2無法補齊，則實驗失敗\n",
    "    \n",
    "    for i in range(0, x):\n",
    "        i = random.choice(list(range(0, len(b2))))\n",
    "        node = b2[i].get_node() # 自候選清單中隨機抽出一stub\n",
    "        transmitter_node_degree_dict[node] += 1 # update degree sequence\n",
    "        transmitter_block2.append(Stubs(node, 2, 2)) # 增加一個stub\n",
    "        b2.pop(i)\n",
    "    \n",
    "    # block 1可以亂補\n",
    "    for i in range(0, x):\n",
    "        j = random.choice(list(range(0, len(block_1_node))))\n",
    "        node = block_1_node[j] # 自block 1隨機抽出一node\n",
    "        transmitter_node_degree_dict[node] += 1 # update degree sequence\n",
    "        transmitter_block1.append(Stubs(node, 2, 1)) # 增加一個stub\n",
    "        \n",
    "    del b2, block_1_node, block_2_node"
   ]
  },
  {
   "cell_type": "markdown",
   "metadata": {},
   "source": [
    "更新degree"
   ]
  },
  {
   "cell_type": "code",
   "execution_count": 31,
   "metadata": {},
   "outputs": [],
   "source": [
    "degree_transmitter = sum(transmitter_node_degree_dict.values())\n",
    "degree_reciever = sum(reciever_node_degree_dict.values())"
   ]
  },
  {
   "cell_type": "code",
   "execution_count": 32,
   "metadata": {},
   "outputs": [],
   "source": [
    "# print(degree_transmitter)\n",
    "# print(degree_reciever)\n",
    "# print(len(transmitter_block1))\n",
    "# print(len(transmitter_block2))\n",
    "# print(len(reciever_block1))\n",
    "# print(len(reciever_block2))"
   ]
  },
  {
   "cell_type": "markdown",
   "metadata": {},
   "source": [
    "指定type"
   ]
  },
  {
   "cell_type": "code",
   "execution_count": 33,
   "metadata": {},
   "outputs": [],
   "source": [
    "type1_count = int(len(transmitter_block1)*q) # type 1數量"
   ]
  },
  {
   "cell_type": "code",
   "execution_count": 34,
   "metadata": {},
   "outputs": [],
   "source": [
    "transmitter_block1_type1_stubs = random.sample(transmitter_block1, type1_count)\n",
    "transmitter_block2_type1_stubs = random.sample(transmitter_block2, type1_count)\n",
    "for stubs in transmitter_block1_type1_stubs:\n",
    "    stubs.stubtype = 1\n",
    "for stubs in transmitter_block2_type1_stubs:\n",
    "    stubs.stubtype = 1\n",
    "transmitter_type2_stubs = list(filter(lambda x: (x.get_stubtype() == 2), transmitter_block1+transmitter_block2))"
   ]
  },
  {
   "cell_type": "code",
   "execution_count": 35,
   "metadata": {},
   "outputs": [],
   "source": [
    "reciever_block1_type1_stubs = random.sample(reciever_block1, type1_count)\n",
    "reciever_block2_type1_stubs = random.sample(reciever_block2, type1_count)\n",
    "for stubs in reciever_block1_type1_stubs:\n",
    "    stubs.stubtype = 1\n",
    "for stubs in reciever_block2_type1_stubs:\n",
    "    stubs.stubtype = 1\n",
    "reciever_type2_stubs = list(filter(lambda x: (x.get_stubtype() == 2), reciever_block1+reciever_block2))"
   ]
  },
  {
   "cell_type": "code",
   "execution_count": 36,
   "metadata": {},
   "outputs": [],
   "source": [
    "# print(len(transmitter_block1_type1_stubs))\n",
    "# print(len(transmitter_block2_type1_stubs))\n",
    "# print(len(transmitter_type2_stubs))\n",
    "# print(len(reciever_block1_type1_stubs))\n",
    "# print(len(reciever_block2_type1_stubs))\n",
    "# print(len(reciever_type2_stubs))"
   ]
  },
  {
   "cell_type": "code",
   "execution_count": 37,
   "metadata": {},
   "outputs": [],
   "source": [
    "transmitter_stubs = transmitter_block1_type1_stubs + transmitter_block2_type1_stubs + transmitter_type2_stubs"
   ]
  },
  {
   "cell_type": "markdown",
   "metadata": {},
   "source": [
    "### Step 5"
   ]
  },
  {
   "cell_type": "code",
   "execution_count": 38,
   "metadata": {},
   "outputs": [
    {
     "name": "stderr",
     "output_type": "stream",
     "text": [
      "100%|███████████████████████████████████| 50276/50276 [00:10<00:00, 4779.62it/s]\n"
     ]
    }
   ],
   "source": [
    "for i in tqdm(range(0, degree_transmitter)): # while there are unconnected stubs\n",
    "    stub_t = random.choice(transmitter_stubs) # Randomly select a stub from transmitter\n",
    "    v = stub_t.get_node()\n",
    "    transmitter_stubs.remove(stub_t) # to prevent seclecting the same stub\n",
    "    \n",
    "    if (stub_t.get_stubtype() == 1):\n",
    "        if (stub_t.get_block() == 1):\n",
    "            stub_r = random.choice(reciever_block2_type1_stubs)\n",
    "            w = stub_r.get_node()\n",
    "            reciever_block2_type1_stubs.remove(stub_r) # to prevent seclecting the same stub\n",
    "        else:\n",
    "            stub_r = random.choice(reciever_block1_type1_stubs)\n",
    "            w = stub_r.get_node()\n",
    "            reciever_block1_type1_stubs.remove(stub_r)\n",
    "    else:\n",
    "        stub_r = random.choice(reciever_type2_stubs)\n",
    "        w = stub_r.get_node()\n",
    "        reciever_type2_stubs.remove(stub_r)\n",
    "        \n",
    "    # connect the edges\n",
    "    model.add_edge(v, w)"
   ]
  },
  {
   "cell_type": "code",
   "execution_count": 39,
   "metadata": {},
   "outputs": [],
   "source": [
    "del transmitter_stubs, reciever_stubs, transmitter_block1, transmitter_block2, reciever_block1, reciever_block2\n",
    "del transmitter_block1_type1_stubs, transmitter_block2_type1_stubs, transmitter_type2_stubs, \n",
    "del transmitter_node_degree_dict, reciever_node_degree_dict\n",
    "del reciever_block1_type1_stubs, reciever_block2_type1_stubs, reciever_type2_stubs"
   ]
  },
  {
   "cell_type": "markdown",
   "metadata": {},
   "source": [
    "### Step 6\n",
    "1. Degree Correlation"
   ]
  },
  {
   "cell_type": "code",
   "execution_count": 40,
   "metadata": {},
   "outputs": [],
   "source": [
    "corr = nx.degree_pearson_correlation_coefficient(model)"
   ]
  },
  {
   "cell_type": "markdown",
   "metadata": {},
   "source": [
    "2. covariance"
   ]
  },
  {
   "cell_type": "code",
   "execution_count": 41,
   "metadata": {},
   "outputs": [],
   "source": [
    "xl=[]\n",
    "yl=[]\n",
    "deg_sum = 0\n",
    "for (v, w) in model.edges():\n",
    "    deg_sum = deg_sum + model.degree[v] * model.degree[w]\n",
    "    xl.append(model.degree[v])\n",
    "    yl.append(model.degree[w])\n",
    "\n",
    "EX = np.mean(xl)\n",
    "EY = np.mean(yl)\n",
    "EXY = deg_sum / len(model.edges)"
   ]
  },
  {
   "cell_type": "code",
   "execution_count": 42,
   "metadata": {},
   "outputs": [],
   "source": [
    "cov = EXY - EX * EY"
   ]
  },
  {
   "cell_type": "markdown",
   "metadata": {},
   "source": [
    "3. Giant component"
   ]
  },
  {
   "cell_type": "code",
   "execution_count": 43,
   "metadata": {},
   "outputs": [],
   "source": [
    "gc = len(max(nx.connected_components(model), key=len)) / (N+M)"
   ]
  },
  {
   "cell_type": "markdown",
   "metadata": {},
   "source": [
    "## SIC演算法"
   ]
  },
  {
   "cell_type": "markdown",
   "metadata": {},
   "source": [
    "SIC演算法的步驟：\n",
    "1. 找出reciever中所有degree為1的點\n",
    "2. 若$w$是這樣的點,假設他唯一的那條邊叫做$(v,w)$,$v$為transmitter上的點,那麼就把所有過$v$之邊刪除\n",
    "3. 重複1,2直到無法再刪除,也就是reciever端不再有degree為1的點"
   ]
  },
  {
   "cell_type": "code",
   "execution_count": 44,
   "metadata": {},
   "outputs": [],
   "source": [
    "transmitter_nodes = [x for x in list(model.nodes()) if isinstance(x, int)]\n",
    "reciever_nodes = [x for x in list(model.nodes()) if isinstance(x, str)]"
   ]
  },
  {
   "cell_type": "code",
   "execution_count": 45,
   "metadata": {},
   "outputs": [],
   "source": [
    "m = len(model.edges()) # 邊的總數\n",
    "deg1_r = len([x for x in reciever_nodes if (model.degree(x)==1)]) # 當下reciver中degree為1的點的總數"
   ]
  },
  {
   "cell_type": "code",
   "execution_count": 46,
   "metadata": {},
   "outputs": [],
   "source": [
    "while(deg1_r != 0):\n",
    "    for node in reciever_nodes:\n",
    "        if (model.degree(node) == 1): # 找出reciever中degree為1的點\n",
    "            w, v = list(model.edges([node]))[0] # 令這條唯一的邊叫做(w,v),v是transmitter上的點,w是reciever上的點\n",
    "            remove = list(model.edges(v))\n",
    "            model.remove_edges_from(remove) # 刪除這些邊\n",
    "            \n",
    "    deg1_r = len([x for x in reciever_nodes if (model.degree(x)==1)]) # update"
   ]
  },
  {
   "cell_type": "code",
   "execution_count": 47,
   "metadata": {},
   "outputs": [],
   "source": [
    "sic = (m - len(model.edges())) / m # packet解成功的比例"
   ]
  },
  {
   "cell_type": "code",
   "execution_count": 48,
   "metadata": {},
   "outputs": [],
   "source": [
    "throughput = len([x for x in transmitter_nodes if (model.degree(x)==0)]) / len(transmitter_nodes)"
   ]
  },
  {
   "cell_type": "markdown",
   "metadata": {},
   "source": [
    "### 結果寫入檔案"
   ]
  },
  {
   "cell_type": "code",
   "execution_count": 49,
   "metadata": {},
   "outputs": [],
   "source": [
    "with open('./results/q=' + str(q) + '.csv',  'a', newline = '') as csvFile:\n",
    "    csvWriter = csv.writer(csvFile, delimiter = ',')\n",
    "    csvWriter.writerow([corr, cov, gc, sic, throughput])"
   ]
  }
 ],
 "metadata": {
  "kernelspec": {
   "display_name": "Python 3 (ipykernel)",
   "language": "python",
   "name": "python3"
  },
  "language_info": {
   "codemirror_mode": {
    "name": "ipython",
    "version": 3
   },
   "file_extension": ".py",
   "mimetype": "text/x-python",
   "name": "python",
   "nbconvert_exporter": "python",
   "pygments_lexer": "ipython3",
   "version": "3.8.13"
  }
 },
 "nbformat": 4,
 "nbformat_minor": 4
}
