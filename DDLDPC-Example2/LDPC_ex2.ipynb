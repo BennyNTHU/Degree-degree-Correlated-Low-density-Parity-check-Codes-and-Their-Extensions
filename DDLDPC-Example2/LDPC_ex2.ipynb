{
 "cells": [
  {
   "cell_type": "markdown",
   "metadata": {},
   "source": [
    "# LDPC example 2"
   ]
  },
  {
   "cell_type": "code",
   "execution_count": 1,
   "metadata": {},
   "outputs": [],
   "source": [
    "import os\n",
    "import ast\n",
    "import csv\n",
    "import sys\n",
    "import time\n",
    "import math\n",
    "import random\n",
    "import string\n",
    "import numpy as np\n",
    "import networkx as nx\n",
    "import matplotlib.pyplot as plt\n",
    "from tqdm import tqdm\n",
    "from networkx.algorithms import bipartite\n",
    "from numpy.random import poisson"
   ]
  },
  {
   "cell_type": "markdown",
   "metadata": {},
   "source": [
    "## 一. 設定實驗參數"
   ]
  },
  {
   "cell_type": "code",
   "execution_count": 2,
   "metadata": {},
   "outputs": [],
   "source": [
    "# d1 = int(sys.argv[1])\n",
    "# d2 = int(sys.argv[2])\n",
    "# p1 = float(sys.argv[3])\n",
    "# p2 = float(sys.argv[4])\n",
    "# G = int(sys.argv[5])\n",
    "# N = int(sys.argv[6])\n",
    "# comb_set = int(sys.argv[7])\n",
    "# deltas = ast.literal_eval(sys.argv[8])"
   ]
  },
  {
   "cell_type": "code",
   "execution_count": 3,
   "metadata": {},
   "outputs": [],
   "source": [
    "d1 = 4\n",
    "d2 = 3 # please make sure d1>d2\n",
    "p1 = 0.1\n",
    "p2 = 0.2\n",
    "G = 3\n",
    "N = 18000\n",
    "comb_set = 1\n",
    "deltas = [0.1,0.2,0.3,0.4,0.5,0.6,0.7,0.8,0.9,1.0]# np.arange(0.01, 1.01, 0.01)# delta 會跑哪些值\n",
    "result_dir = \"./results/comb\" + str(comb_set) + \"_decode/\"\n",
    "cov_dir = \"./results/comb\" + str(comb_set) + \"_cor/\"\n",
    "model_dir = \"./model/comb\" + str(comb_set) + \"/\""
   ]
  },
  {
   "cell_type": "code",
   "execution_count": 4,
   "metadata": {},
   "outputs": [],
   "source": [
    "d1 = max(d1,d2) # make sure d1>d2\n",
    "d2 = min(d1,d2)\n",
    "n = N # Number of transmitter, i.e., n\n",
    "M = int(N / G) # Number of reciever, i.e., n-k\n",
    "k = N - M"
   ]
  },
  {
   "cell_type": "code",
   "execution_count": 5,
   "metadata": {},
   "outputs": [],
   "source": [
    "random.seed(time.time()) # random seeds\n",
    "if not os.path.exists(result_dir) : os.mkdir(result_dir)\n",
    "if not os.path.exists(cov_dir) : os.mkdir(cov_dir)\n",
    "if not os.path.exists(model_dir) : os.mkdir(model_dir)"
   ]
  },
  {
   "cell_type": "markdown",
   "metadata": {},
   "source": [
    "## 二. 建立有Negative Degree Correlation的Bipartite Graph for example 2\n",
    "\n",
    "實作步驟：\n",
    "1. 設有一個bipartite graph，左邊的頂點為transmitter $T$，右邊為reciever $R$，數量分別為$n$和$n-k$\n",
    "2. Degree sequence中$d_1,d_2,Gd_1,Gd_2$的比例由(40)給出\n",
    "\n",
    "    (1) 所連之node之degree為$d_1$的stub為transmitter block 1, 比例為$$\\frac{\\frac{p_1+p_2}{d_1}}{\\frac{p_1+p_2}{d_1}+\\frac{1-p_1-p_2}{d2}}$$\n",
    "    \n",
    "    (2) 所連之node之degree為$d_2$的stub為transmitter block 2, 比例為$$\\frac{\\frac{1-p_1-p_2}{d_2}}{\\frac{p_1+p_2}{d_1}+\\frac{1-p_1-p_2}{d2}}$$\n",
    "    \n",
    "    (3) 所連之node之degree為$Gd_1$的stub為reciever block 1, 比例為$$\\frac{\\frac{p_1+p_2}{d_1}}{\\frac{p_1+p_2}{d_1}+\\frac{1-p_1-p_2}{d2}}$$\n",
    "    \n",
    "    (4) 所連之node之degree為$Gd_2$的stub為recieverblock 2, 比例為$$\\frac{\\frac{1-p_1-p_2}{d_2}}{\\frac{p_1+p_2}{d_1}+\\frac{1-p_1-p_2}{d2}}$$\n",
    "    \n",
    "3. 將此bipartite graph建立起來，但先不連結邊\n",
    "4. 建立Stubs\n",
    "\n",
    "    (1) transmitter block 1中,type 1所佔之比例為$\\frac{p_2}{p_1+p_2}$, type 2所佔之比例為$\\frac{p_1}{p_1+p_2}$\n",
    "    \n",
    "    (2) transmitter block 2中,type 1所佔之比例為$\\frac{p_2}{1-p_1-p_2}$, type 2所佔之比例為$\\frac{p_1}{1-p_1-2p_2}$\n",
    "    \n",
    "    (3) reciever block 1中,type 1所佔之比例為$\\frac{p_2}{p_1+p_2}$, type 2所佔之比例為$\\frac{p_1}{p_1+p_2}$\n",
    "    \n",
    "    (4) reciever block 2中,type 1所佔之比例為$\\frac{p_2}{1-p_1-p_2}$, type 2所佔之比例為$\\frac{p_1}{1-p_1-2p_2}$\n",
    "    \n",
    "5. 將邊連起來：自$T$中任意選一stub，\n",
    "\n",
    "    (1) 若是block 1中的type 1 stub，就連到$R$中block 2的type 1 stub。若是type 2 stub就連到$R$中block 1的type 2 stub。\n",
    "    \n",
    "    (2) 若是block 2中的type 1 stub，就連到$R$中block 1的type 1 stub。若是type 2 stub就連到$R$中block 2任意的type 2 stub。"
   ]
  },
  {
   "cell_type": "markdown",
   "metadata": {},
   "source": [
    "### Step 2"
   ]
  },
  {
   "cell_type": "markdown",
   "metadata": {},
   "source": [
    "製造兩個degree sequence"
   ]
  },
  {
   "cell_type": "code",
   "execution_count": 6,
   "metadata": {},
   "outputs": [],
   "source": [
    "b1_ratio = ((p1+p2)/d1) / ((p1+p2)/d1 + (1-p1-p2)/d2)"
   ]
  },
  {
   "cell_type": "code",
   "execution_count": 7,
   "metadata": {},
   "outputs": [],
   "source": [
    "tk = [d1] * int(N*b1_ratio) + [d2] * (N - int(N*b1_ratio))\n",
    "rk = [G*d1] * int(M*b1_ratio) + [G*d2] * (M - int(M*b1_ratio))"
   ]
  },
  {
   "cell_type": "markdown",
   "metadata": {},
   "source": [
    "若有degree為0的點，則補一個stub給它(in this case必無此點,無檢查必要)"
   ]
  },
  {
   "cell_type": "code",
   "execution_count": 8,
   "metadata": {},
   "outputs": [],
   "source": [
    "# tk = [1 if i==0 else i for i in tk]\n",
    "# rk = [1 if i==0 else i for i in rk]"
   ]
  },
  {
   "cell_type": "markdown",
   "metadata": {},
   "source": [
    "讓所有degree的和相同"
   ]
  },
  {
   "cell_type": "code",
   "execution_count": 9,
   "metadata": {},
   "outputs": [],
   "source": [
    "n = sum(tk) - sum(rk)\n",
    "if (n < 0): # transmitter端stub比較少\n",
    "    for i in range(0,-n):\n",
    "        index = random.choice(list(range(0,N)))\n",
    "        tk[index] = tk[index] + 1\n",
    "elif (n > 0): # reiever端stub比較少\n",
    "    for i in range(0,n):\n",
    "        index = random.choice(list(range(0,M)))\n",
    "        rk[index] = rk[index] + 1\n",
    "else:\n",
    "    pass"
   ]
  },
  {
   "cell_type": "markdown",
   "metadata": {},
   "source": [
    "調整degree總數為偶數"
   ]
  },
  {
   "cell_type": "code",
   "execution_count": 10,
   "metadata": {},
   "outputs": [],
   "source": [
    "if (sum(tk)%2 != 0): # \n",
    "    index = random.choice(list(range(0,N)))\n",
    "    tk[index] = tk[index] + 1\n",
    "    index = random.choice(list(range(0,M)))\n",
    "    rk[index] = rk[index] + 1"
   ]
  },
  {
   "cell_type": "markdown",
   "metadata": {},
   "source": [
    "經過這些處理之後，transmitter端與reciever端具有相同的stub數(degree)以外，也能確保整個bipartite graph的degree是偶數"
   ]
  },
  {
   "cell_type": "code",
   "execution_count": 11,
   "metadata": {},
   "outputs": [],
   "source": [
    "rk = sorted(rk, reverse=True) # sort 2m stubs in descending order\n",
    "tk = sorted(tk, reverse=True)\n",
    "degree_transmitter = sum(tk)\n",
    "degree_reciever = sum(rk)"
   ]
  },
  {
   "cell_type": "code",
   "execution_count": 12,
   "metadata": {},
   "outputs": [],
   "source": [
    "# print(np.unique(tk))\n",
    "# print(np.unique(rk))\n",
    "# print(degree_transmitter) # 理論上要有幾條邊\n",
    "# print(degree_reciever)"
   ]
  },
  {
   "cell_type": "markdown",
   "metadata": {},
   "source": [
    "### Step 3\n",
    "現在將此bipartite graph建立起來，且已經保證所有頂點的degree不為0"
   ]
  },
  {
   "cell_type": "code",
   "execution_count": 13,
   "metadata": {},
   "outputs": [],
   "source": [
    "transmitter_node_degree_dict = {}\n",
    "for nodes in range(0,N): # The nodes are named after 0~N-1\n",
    "    transmitter_node_degree_dict[nodes] = tk[nodes]"
   ]
  },
  {
   "cell_type": "code",
   "execution_count": 14,
   "metadata": {},
   "outputs": [],
   "source": [
    "# transmitter_node_degree_dict # degree sequence"
   ]
  },
  {
   "cell_type": "code",
   "execution_count": 15,
   "metadata": {},
   "outputs": [],
   "source": [
    "reciever_node_degree_dict = {}\n",
    "for nodes in range(0,M): # The nodes are named after '0'~'N-1'\n",
    "    reciever_node_degree_dict[str(nodes)] = rk[nodes]"
   ]
  },
  {
   "cell_type": "code",
   "execution_count": 16,
   "metadata": {},
   "outputs": [],
   "source": [
    "model = nx.Graph()\n",
    "model.add_nodes_from(transmitter_node_degree_dict.keys(), bipartite=0)\n",
    "model.add_nodes_from(reciever_node_degree_dict.keys(), bipartite=1)"
   ]
  },
  {
   "cell_type": "code",
   "execution_count": 17,
   "metadata": {},
   "outputs": [],
   "source": [
    "del tk, rk"
   ]
  },
  {
   "cell_type": "markdown",
   "metadata": {},
   "source": [
    "### Step 4"
   ]
  },
  {
   "cell_type": "markdown",
   "metadata": {},
   "source": [
    "建立transmitter和reciever的stub"
   ]
  },
  {
   "cell_type": "code",
   "execution_count": 18,
   "metadata": {},
   "outputs": [],
   "source": [
    "class Stubs():\n",
    "    def __init__(self, node, stubtype, block):\n",
    "        self.node = node\n",
    "        self.stubtype = stubtype\n",
    "        self.block = block\n",
    "    \n",
    "    def get_node(self):\n",
    "        return self.node\n",
    "    \n",
    "    def get_stubtype(self):\n",
    "        return self.stubtype\n",
    "    \n",
    "    def get_block(self):\n",
    "        return self.block"
   ]
  },
  {
   "cell_type": "code",
   "execution_count": 19,
   "metadata": {},
   "outputs": [],
   "source": [
    "transmitter_stubs = []\n",
    "for nodes in transmitter_node_degree_dict.keys():\n",
    "    for degree in range(0, transmitter_node_degree_dict[nodes]):\n",
    "        transmitter_stubs.append(Stubs(nodes, 2, 1))"
   ]
  },
  {
   "cell_type": "code",
   "execution_count": 20,
   "metadata": {},
   "outputs": [],
   "source": [
    "reciever_stubs = []\n",
    "for nodes in reciever_node_degree_dict.keys():\n",
    "    for degree in range(0, reciever_node_degree_dict[nodes]):  \n",
    "        reciever_stubs.append(Stubs(nodes, 2, 1))"
   ]
  },
  {
   "cell_type": "markdown",
   "metadata": {},
   "source": [
    "分block, degree為$d_1$ (resp. $Gd_1$)的為block 1, degree為$d_2$ (resp. $Gd_2$)的為block 2"
   ]
  },
  {
   "cell_type": "code",
   "execution_count": 21,
   "metadata": {},
   "outputs": [],
   "source": [
    "transmitter_block1 = [stub for stub in transmitter_stubs if (transmitter_node_degree_dict[stub.get_node()]>=d1)] \n",
    "transmitter_block2 = [stub for stub in transmitter_stubs if (transmitter_node_degree_dict[stub.get_node()]<d1)]"
   ]
  },
  {
   "cell_type": "code",
   "execution_count": 22,
   "metadata": {},
   "outputs": [],
   "source": [
    "reciever_block1 = [stub for stub in reciever_stubs if (reciever_node_degree_dict[stub.get_node()]>=G*d1)] \n",
    "reciever_block2 = [stub for stub in reciever_stubs if (reciever_node_degree_dict[stub.get_node()]<G*d1)]"
   ]
  },
  {
   "cell_type": "code",
   "execution_count": 23,
   "metadata": {},
   "outputs": [],
   "source": [
    "degree_transmitter = sum(transmitter_node_degree_dict.values())\n",
    "degree_reciever = sum(reciever_node_degree_dict.values())"
   ]
  },
  {
   "cell_type": "code",
   "execution_count": 24,
   "metadata": {},
   "outputs": [],
   "source": [
    "# print(degree_transmitter)\n",
    "# print(degree_reciever)\n",
    "# print(len(transmitter_block1))\n",
    "# print(len(transmitter_block2))\n",
    "# print(len(reciever_block1))\n",
    "# print(len(reciever_block2))"
   ]
  },
  {
   "cell_type": "markdown",
   "metadata": {},
   "source": [
    "指定type"
   ]
  },
  {
   "cell_type": "code",
   "execution_count": 25,
   "metadata": {},
   "outputs": [],
   "source": [
    "b1_type1_count = int(len(transmitter_block1) * (p2/(p1+p2))) # type 1數量\n",
    "b2_type1_count = int(len(transmitter_block2) * (p2/(1-p1-p2))) # type 1數量"
   ]
  },
  {
   "cell_type": "code",
   "execution_count": 26,
   "metadata": {},
   "outputs": [],
   "source": [
    "transmitter_block1_type1_stubs = random.sample(transmitter_block1, b1_type1_count)\n",
    "transmitter_block2_type1_stubs = random.sample(transmitter_block2, b2_type1_count)\n",
    "for stubs in transmitter_block1_type1_stubs:\n",
    "    stubs.stubtype = 1\n",
    "for stubs in transmitter_block2_type1_stubs:\n",
    "    stubs.stubtype = 1\n",
    "transmitter_block1_type2_stubs = [x for x in transmitter_block1 if (x.get_stubtype() == 2)]\n",
    "transmitter_block2_type2_stubs = [x for x in transmitter_block2 if (x.get_stubtype() == 2)]"
   ]
  },
  {
   "cell_type": "code",
   "execution_count": 27,
   "metadata": {},
   "outputs": [],
   "source": [
    "reciever_block1_type1_stubs = random.sample(reciever_block1, b1_type1_count)\n",
    "reciever_block2_type1_stubs = random.sample(reciever_block2, b2_type1_count)\n",
    "for stubs in reciever_block1_type1_stubs:\n",
    "    stubs.stubtype = 1\n",
    "for stubs in reciever_block2_type1_stubs:\n",
    "    stubs.stubtype = 1\n",
    "reciever_block1_type2_stubs = [x for x in reciever_block1 if (x.get_stubtype() == 2)]\n",
    "reciever_block2_type2_stubs = [x for x in reciever_block2 if (x.get_stubtype() == 2)]"
   ]
  },
  {
   "cell_type": "code",
   "execution_count": 28,
   "metadata": {},
   "outputs": [],
   "source": [
    "def remove_stubs(stub_list1, stub_list2):\n",
    "    x = len(stub_list1) - len(stub_list2)\n",
    "    if (x>0):\n",
    "        for i in range (0,x):\n",
    "            stub_list1.remove(random.choice(stub_list1))\n",
    "    elif (x<0):\n",
    "        for i in range (0,abs(x)):\n",
    "            stub_list2.remove(random.choice(stub_list2))"
   ]
  },
  {
   "cell_type": "code",
   "execution_count": 29,
   "metadata": {},
   "outputs": [],
   "source": [
    "# print(len(transmitter_block1_type1_stubs))\n",
    "# print(len(transmitter_block1_type2_stubs))\n",
    "# print(len(transmitter_block2_type1_stubs))\n",
    "# print(len(transmitter_block2_type2_stubs))\n",
    "# print(len(reciever_block1_type1_stubs))\n",
    "# print(len(reciever_block1_type2_stubs))\n",
    "# print(len(reciever_block2_type1_stubs))\n",
    "# print(len(reciever_block2_type2_stubs))"
   ]
  },
  {
   "cell_type": "code",
   "execution_count": 30,
   "metadata": {},
   "outputs": [],
   "source": [
    "remove_stubs(transmitter_block1_type1_stubs, reciever_block2_type1_stubs)\n",
    "remove_stubs(transmitter_block1_type2_stubs, reciever_block1_type2_stubs)\n",
    "remove_stubs(transmitter_block2_type1_stubs, reciever_block1_type1_stubs)\n",
    "remove_stubs(transmitter_block2_type2_stubs, reciever_block2_type2_stubs)"
   ]
  },
  {
   "cell_type": "code",
   "execution_count": 31,
   "metadata": {},
   "outputs": [],
   "source": [
    "# print(len(transmitter_block1_type1_stubs))\n",
    "# print(len(transmitter_block1_type2_stubs))\n",
    "# print(len(transmitter_block2_type1_stubs))\n",
    "# print(len(transmitter_block2_type2_stubs))\n",
    "# print(len(reciever_block1_type1_stubs))\n",
    "# print(len(reciever_block1_type2_stubs))\n",
    "# print(len(reciever_block2_type1_stubs))\n",
    "# print(len(reciever_block2_type2_stubs))"
   ]
  },
  {
   "cell_type": "code",
   "execution_count": 32,
   "metadata": {},
   "outputs": [],
   "source": [
    "for stubs in transmitter_block1_type1_stubs:\n",
    "    stubs.stubtype = 1\n",
    "    stubs.block = 1\n",
    "for stubs in transmitter_block2_type1_stubs:\n",
    "    stubs.stubtype = 1\n",
    "    stubs.block = 2\n",
    "    \n",
    "for stubs in transmitter_block1_type2_stubs:\n",
    "    stubs.stubtype = 2\n",
    "    stubs.block = 1\n",
    "    \n",
    "for stubs in transmitter_block2_type2_stubs:\n",
    "    stubs.stubtype = 2\n",
    "    stubs.block = 2\n",
    "    \n",
    "for stubs in reciever_block1_type1_stubs:\n",
    "    stubs.stubtype = 1\n",
    "    stubs.block = 1\n",
    "    \n",
    "for stubs in reciever_block2_type1_stubs:\n",
    "    stubs.stubtype = 1\n",
    "    stubs.block = 2\n",
    "\n",
    "for stubs in reciever_block1_type2_stubs:\n",
    "    stubs.stubtype = 2\n",
    "    stubs.block = 1\n",
    "    \n",
    "for stubs in reciever_block2_type2_stubs:\n",
    "    stubs.stubtype = 2\n",
    "    stubs.block = 2"
   ]
  },
  {
   "cell_type": "code",
   "execution_count": 33,
   "metadata": {},
   "outputs": [],
   "source": [
    "transmitter_stubs = transmitter_block1_type1_stubs + transmitter_block1_type2_stubs +\\\n",
    "transmitter_block2_type1_stubs + transmitter_block2_type2_stubs"
   ]
  },
  {
   "cell_type": "markdown",
   "metadata": {},
   "source": [
    "### Step 5"
   ]
  },
  {
   "cell_type": "code",
   "execution_count": 34,
   "metadata": {
    "scrolled": false
   },
   "outputs": [
    {
     "name": "stderr",
     "output_type": "stream",
     "text": [
      "100%|██████████████████████████████████████████████████████████████████████████| 58373/58373 [00:42<00:00, 1367.98it/s]\n"
     ]
    }
   ],
   "source": [
    "for i in tqdm(range(0,len(transmitter_stubs))): # while there are unconnected stubs\n",
    "    stub_t = random.choice(transmitter_stubs) # Randomly select a stub from transmitter\n",
    "    v = stub_t.get_node()\n",
    "    transmitter_stubs.remove(stub_t) # to prevent seclecting the same stub\n",
    "    \n",
    "    if (stub_t.get_block() == 1):\n",
    "        if (stub_t.get_stubtype() == 1): # block 1 type 1\n",
    "            stub_r = random.choice(reciever_block2_type1_stubs)\n",
    "            w = stub_r.get_node()\n",
    "            reciever_block2_type1_stubs.remove(stub_r) # to prevent seclecting the same stub\n",
    "        elif (stub_t.get_stubtype() == 2): # block 1 type 2\n",
    "            stub_r = random.choice(reciever_block1_type2_stubs)\n",
    "            w = stub_r.get_node()\n",
    "            reciever_block1_type2_stubs.remove(stub_r)\n",
    "            transmitter_block1_type2_stubs.remove(stub_t)\n",
    "    elif (stub_t.get_block() == 2):\n",
    "        if (stub_t.get_stubtype() == 1): # block 2 type 1\n",
    "            stub_r = random.choice(reciever_block1_type1_stubs)\n",
    "            w = stub_r.get_node()\n",
    "            reciever_block1_type1_stubs.remove(stub_r)\n",
    "        elif (stub_t.get_stubtype() == 2): # block 2 type 2\n",
    "            stub_r = random.choice(reciever_block2_type2_stubs)\n",
    "            w = stub_r.get_node()\n",
    "            reciever_block2_type2_stubs.remove(stub_r)\n",
    "        \n",
    "    # connect the edges\n",
    "    model.add_edge(v, w)"
   ]
  },
  {
   "cell_type": "code",
   "execution_count": 35,
   "metadata": {},
   "outputs": [],
   "source": [
    "nx.write_edgelist(model, model_dir + \"model.txt\", data=False)"
   ]
  },
  {
   "cell_type": "code",
   "execution_count": 36,
   "metadata": {},
   "outputs": [],
   "source": [
    "del transmitter_node_degree_dict, reciever_node_degree_dict\n",
    "del transmitter_stubs, reciever_stubs, transmitter_block1, transmitter_block2, reciever_block1, reciever_block2\n",
    "del transmitter_block1_type1_stubs, transmitter_block1_type2_stubs, transmitter_block2_type1_stubs\n",
    "del transmitter_block2_type2_stubs, reciever_block1_type1_stubs, reciever_block1_type2_stubs\n",
    "del reciever_block2_type1_stubs, reciever_block2_type2_stubs\n",
    "del b1_ratio, index, degree_transmitter, degree_reciever, nodes, stubs, degree, stub_t, stub_r, v, w"
   ]
  },
  {
   "cell_type": "markdown",
   "metadata": {},
   "source": [
    "### Step 6\n",
    "1. Degree Correlation and covariance"
   ]
  },
  {
   "cell_type": "code",
   "execution_count": 37,
   "metadata": {},
   "outputs": [],
   "source": [
    "xl=[]\n",
    "yl=[]\n",
    "xl_square = []\n",
    "yl_square = []\n",
    "deg_sum = 0\n",
    "for (v, w) in model.edges():\n",
    "    deg_sum = deg_sum + model.degree[v] * model.degree[w]\n",
    "    xl.append(model.degree[v])\n",
    "    yl.append(model.degree[w])\n",
    "    xl_square.append(model.degree[v]*model.degree[v])\n",
    "    yl_square.append(model.degree[w]*model.degree[w])\n",
    "\n",
    "EX = np.mean(xl)\n",
    "EY = np.mean(yl)\n",
    "EX_square = np.mean(xl_square)\n",
    "EY_square = np.mean(yl_square)\n",
    "EXY = deg_sum / len(model.edges)\n",
    "sigma_X = math.sqrt(EX_square - EX*EX)\n",
    "sigma_Y = math.sqrt(EY_square - EY*EY)\n",
    "\n",
    "cov = EXY - EX * EY\n",
    "cor = cov / (sigma_X * sigma_Y)"
   ]
  },
  {
   "cell_type": "code",
   "execution_count": 38,
   "metadata": {},
   "outputs": [],
   "source": [
    "del xl, yl, xl_square, yl_square"
   ]
  },
  {
   "cell_type": "markdown",
   "metadata": {},
   "source": [
    "plot the bipartite graph"
   ]
  },
  {
   "cell_type": "code",
   "execution_count": 39,
   "metadata": {},
   "outputs": [],
   "source": [
    "# top = nx.bipartite.sets(model)[0]\n",
    "# pos = nx.bipartite_layout(model, top)\n",
    "# plt.figure(figsize=(12,12)) \n",
    "# nx.draw(model, pos=pos)\n",
    "# plt.show()"
   ]
  },
  {
   "cell_type": "markdown",
   "metadata": {},
   "source": [
    "### 結果寫入檔案"
   ]
  },
  {
   "cell_type": "code",
   "execution_count": 40,
   "metadata": {},
   "outputs": [],
   "source": [
    "with open(cov_dir + 'cov.csv',  'a', newline = '') as csvFile:\n",
    "    csvWriter = csv.writer(csvFile, delimiter = ',')\n",
    "    csvWriter.writerow([cor, cov])"
   ]
  },
  {
   "cell_type": "markdown",
   "metadata": {},
   "source": [
    "### 這些是等一下要用到的東西！！！！"
   ]
  },
  {
   "cell_type": "code",
   "execution_count": 41,
   "metadata": {},
   "outputs": [],
   "source": [
    "mt1 = len([e for e in list(model.edges()) if (model.degree(e[0])==d1)]) # E中原本transmitter端degree為d的邊\n",
    "mt2 = len([e for e in list(model.edges()) if (model.degree(e[0])==d2)]) # E中原本trans端degree為2d的邊\n",
    "mr1 = len([e for e in list(model.edges()) if (model.degree(e[1])==G*d1)]) # E中原本receiver端degree為d的邊\n",
    "mr2 = len([e for e in list(model.edges()) if (model.degree(e[1])==G*d2)]) # E中原本receiver端degree為2d的邊"
   ]
  },
  {
   "cell_type": "markdown",
   "metadata": {},
   "source": [
    "## 三. BEC channel\n",
    "BEC channel會刪除$G$中transmitter端比例為$\\delta$的node $V_\\delta$，以及與其相連之edge $E_\\delta=\\{(v,w)|v\\in V_\\delta, w\\in R\\}$\n",
    "\n",
    "LDPC decode這些被刪除的點是錯誤更正碼欲更正的對象(換句話說，$\\delta=0$的時候代表沒有掉包,decode成功率為100\\%)\n",
    "故decode的對象是$G_\\delta=(V_\\delta, E_\\delta)$，方法是對$G_\\delta$進行SIC。為了加快實驗進度，每產生一張圖，就每個delta值去跑100次實驗計算平均後再寫入檔案。三與四兩部份的code是只取一個$\\delta$值作為示範和debug用。遍歷所有$\\delta$值的程式在最後面。"
   ]
  },
  {
   "cell_type": "code",
   "execution_count": 42,
   "metadata": {},
   "outputs": [],
   "source": [
    "# delta = 0.4"
   ]
  },
  {
   "cell_type": "code",
   "execution_count": 43,
   "metadata": {},
   "outputs": [],
   "source": [
    "# transmitter_nodes_model = [x for x in list(model.nodes()) if isinstance(x, int)]\n",
    "# reciever_nodes_model = [x for x in list(model.nodes()) if isinstance(x, str)]\n",
    "\n",
    "# V_delta = [] # 丟銅板決定要不要加入某個node\n",
    "# for v in transmitter_nodes_model:\n",
    "#     p=random.random()\n",
    "#     if p<=delta:\n",
    "#         V_delta.append(v)\n",
    "# E_delta = model.edges(V_delta)\n",
    "\n",
    "# G_delta = nx.Graph()\n",
    "# G_delta.add_nodes_from(V_delta, bipartite=0)\n",
    "# G_delta.add_nodes_from(reciever_nodes_model, bipartite=1)\n",
    "# G_delta.add_edges_from(E_delta)"
   ]
  },
  {
   "cell_type": "markdown",
   "metadata": {},
   "source": [
    "## 四. LDPC Decode\n",
    "### Step 1. 蒐集一些等等算metric時要用的串列"
   ]
  },
  {
   "cell_type": "code",
   "execution_count": 44,
   "metadata": {},
   "outputs": [],
   "source": [
    "# transmitter_nodes = [x for x in list(G_delta.nodes()) if isinstance(x, int)]\n",
    "# reciever_nodes = [x for x in list(G_delta.nodes()) if isinstance(x, str)]"
   ]
  },
  {
   "cell_type": "code",
   "execution_count": 45,
   "metadata": {},
   "outputs": [],
   "source": [
    "# m = len(model.edges()) # 邊的總數\n",
    "# trans_d1_edge = [e for e in list(E_delta) if (model.degree(e[0])==d1)] # E_\\delta中原本transmitter端degree為d的邊\n",
    "# trans_d2_edge = [e for e in list(E_delta) if (model.degree(e[0])==d2)] # E_\\delta中原本trans端degree為2d的邊\n",
    "# rec_Gd1_edge = [e for e in list(E_delta) if (model.degree(e[1])==G*d1)] # E_\\delta中原本receiver端degree為d的邊\n",
    "# rec_Gd2_edge = [e for e in list(E_delta) if (model.degree(e[1])==G*d2)] # E_\\delta中原本receiver端degree為2d的邊\n",
    "# trans_d1_node = [x for x in transmitter_nodes if (model.degree(x)==d1)] # V_\\delta中transmitter端degree為d的點\n",
    "# trans_d2_node = [x for x in transmitter_nodes if (model.degree(x)==d2)] # V_\\delta中transmitter端degree為2d的點"
   ]
  },
  {
   "cell_type": "markdown",
   "metadata": {},
   "source": [
    "### Step 2. SIC演算法\n",
    "SIC演算法的步驟：\n",
    "1. 找出reciever中所有degree為1的點\n",
    "2. 若$w$是這樣的點,假設他唯一的那條邊叫做$(v,w)$,$v$為transmitter上的點,那麼就把所有過$v$之邊刪除\n",
    "3. 重複1,2直到無法再刪除,也就是reciever端不再有degree為1的點\n",
    "\n",
    "如同Poisson Reciever一樣去執行SIC(是對$G_\\delta$進行)"
   ]
  },
  {
   "cell_type": "code",
   "execution_count": 46,
   "metadata": {},
   "outputs": [],
   "source": [
    "# deg1_r = len([x for x in reciever_nodes if (G_delta.degree(x)==1)]) # 當下reciver中degree為1的點的總數\n",
    "# deg1_r"
   ]
  },
  {
   "cell_type": "code",
   "execution_count": 47,
   "metadata": {},
   "outputs": [],
   "source": [
    "# deg1_r = len([x for x in reciever_nodes if (G_delta.degree(x)==1)]) # 當下reciver中degree為1的點的總數\n",
    "# while(deg1_r != 0):\n",
    "#     for node in reciever_nodes:\n",
    "#         if (G_delta.degree(node) == 1): # 找出reciever中degree為1的點\n",
    "#             w, v = list(G_delta.edges([node]))[0] # 令這條唯一的邊叫做(w,v),v是transmitter上的點,w是reciever上的點\n",
    "#             remove = list(G_delta.edges(v))\n",
    "#             G_delta.remove_edges_from(remove) # 刪除這些邊\n",
    "            \n",
    "#     deg1_r = len([x for x in reciever_nodes if (G_delta.degree(x)==1)]) # update"
   ]
  },
  {
   "cell_type": "markdown",
   "metadata": {},
   "source": [
    "### Step 3. 計算各個Metric\n",
    "在此實驗中，metric一共有9個\n",
    "1. $\\lim_{i\\to\\infty}\\alpha_d^{(i)}$，物理意義是當執行完SIC演算法後，任選一邊$e$出來，設其transmitter端為$v$。若未執行SIC前$\\deg(v)=d$，則執行後$e$的 variable (transmitter)端未被decode之機率。故計算公式為$$\\frac{\\text{$E$中原本transmitter端degree為$d$的邊在執行完SIC後，transmitter端的degree沒有變成0，這樣的邊的個數}}{\\text{$E$中原本transmitter端degree為$d$的邊}}$$\n",
    "2. $\\lim_{i\\to\\infty}\\alpha_{2d}^{(i)}$，物理意義是當執行完SIC演算法後，任選一邊$e$出來，設其transmitter端為$v$。若未執行SIC前$\\deg(v)=2d$，則執行後$e$的 variable (transmitter)端未被decode之機率。故計算公式為$$\\frac{\\text{$E_\\delta$中原本transmitter端degree為$2d$的邊在執行完SIC後，transmitter端的degree沒有變成0，這樣的邊的個數}}{\\text{$E$中原本transmitter端degree為$2d$的邊}}$$\n",
    "3. $\\lim_{i\\to\\infty}\\alpha^{(i)}$，物理意義是當執行完SIC演算法後，任選一邊$e$的variable (transmitter)端未被decode之機率。故計算公式為$$\\frac{\\text{$E_\\delta$在執行完SIC後，transmitter端的degree沒有變成0，這樣的邊的個數}}{\\text{未執行SIC與BEC前，原本的圖$G$上的邊總數}}$$\n",
    "4. $\\lim_{i\\to\\infty}\\beta_d^{(i)}$，物理意義是當執行完SIC演算法後，任選一邊$e$出來，設其receiver端為$w$。若未執行SIC前$\\deg(w)=d$，則執行後$e$的 check (receiver)端未被decode之機率。故計算公式為$$\\frac{\\text{$E_\\delta$中原本receiver端degree為$d$的邊在執行完SIC後，receiver端的degree沒有變成0，這樣的邊的個數}}{\\text{$E$中原本transmitter端degree為$d$的邊}}$$\n",
    "5. $\\lim_{i\\to\\infty}\\beta_{2d}^{(i)}$，物理意義是當執行完SIC演算法後，任選一邊$e$出來，設其receiver端為$w$。若未執行SIC前$\\deg(w)=2d$，則執行後$e$的 check (receiver)端未被decode之機率。故計算公式為$$\\frac{\\text{$E_\\delta$中原本receiver端degree為$2d$的邊在執行完SIC後，receiver端的degree沒有變成0，這樣的邊的個數}}{\\text{$E$中原本transmitter端degree為$2d$的邊}}$$\n",
    "6. $\\lim_{i\\to\\infty}\\beta^{(i)}$，物理意義是當執行完SIC演算法後，任選一邊$e$的check (receiver)端未被decode之機率。故計算公式為$$\\frac{\\text{$E_\\delta$在執行完SIC後，receiver端的degree沒有變成0，這樣的邊的個數}}{\\text{未執行SIC與BEC前，原本的圖$G$上的邊總數}}$$\n",
    "7. $\\lim_{i\\to\\infty}\\gamma_{d}^{(i)}$，物理意義是當執行完SIC演算法後，任選一node $v$出來，若未執行SIC前$\\deg(v)=d$，則執行後$v$成功被decode之機率。故計算公式為$$1-\\frac{\\text{$V_\\delta$中原本transmitter端degree為$d$的點在執行完SIC後，degree沒有變成0，這樣的點的個數}}{\\text{原本的圖$G$上transmitter端degree為$d$的點總數}}$$\n",
    "8. $\\lim_{i\\to\\infty}\\gamma_{2d}^{(i)}$，物理意義是當執行完SIC演算法後，任選一node $v$出來，若未執行SIC前$\\deg(v)=2d$，則執行後$v$成功被decode之機率。故計算公式為$$1-\\frac{\\text{$V_\\delta$中原本transmitter端degree為$2d$的點在執行完SIC後，degree沒有變成0，這樣的點的個數}}{\\text{原本的圖$G$上transmitter端degree為$2d$的點總數}}$$\n",
    "9. $\\lim_{i\\to\\infty}\\gamma^{(i)}$，物理意義是當執行完SIC演算法後，任選一node $v$成功被decode之機率。故計算公式為$$1-\\frac{\\text{$V_\\delta$中原本transmitter端的點在執行完SIC後，degree沒有變成0，這樣的點的個數}}{\\text{原本的圖$G$上transmitter端的點總數}}$$"
   ]
  },
  {
   "cell_type": "code",
   "execution_count": 48,
   "metadata": {},
   "outputs": [],
   "source": [
    "# ad1_limit = len([x for x in trans_d1_edge if (G_delta.degree(x[0])!=0)]) / mt1\n",
    "# ad2_limit = len([x for x in trans_d2_edge if (G_delta.degree(x[0])!=0)]) / mt2\n",
    "# alpha = len([x for x in E_delta if (G_delta.degree(x[0])!=0)]) / m\n",
    "# bGd1_limit = len([x for x in rec_Gd1_edge if (G_delta.degree(x[1])!=0)]) / mr1\n",
    "# bGd2_limit = len([x for x in rec_Gd2_edge if (G_delta.degree(x[1])!=0)]) / mr2\n",
    "# beta = len([x for x in E_delta if (G_delta.degree(x[1])!=0)]) / m\n",
    "# yd1_limit = 1 - len([x for x in trans_d1_node if (G_delta.degree(x)!=0)]) / len(trans_d1_node)\n",
    "# yd2_limit = 1 - len([x for x in trans_d2_node if (G_delta.degree(x)!=0)]) / len(trans_d2_node)\n",
    "# gamma = 1 - len([x for x in transmitter_nodes if (G_delta.degree(x)!=0)]) / N"
   ]
  },
  {
   "cell_type": "markdown",
   "metadata": {},
   "source": [
    "### Step 4. 將結果寫入檔案"
   ]
  },
  {
   "cell_type": "code",
   "execution_count": 49,
   "metadata": {},
   "outputs": [],
   "source": [
    "# with open(result_dir  + str(f'{delta:.4f}') + '.csv', 'a', newline = '') as csvFile:\n",
    "#     csvWriter = csv.writer(csvFile, delimiter = ',')\n",
    "#     csvWriter.writerow([ad1_limit, ad2_limit, alpha, bGd1_limit, bGd2_limit, beta, yd1_limit, yd2_limit, gamma])"
   ]
  },
  {
   "cell_type": "markdown",
   "metadata": {},
   "source": [
    "## 五. 遍歷不同的$\\delta$值\n",
    "接下來的實驗要讓此圖通過BEC channel，並就不同$\\delta$值為橫軸繪圖，且一張圖上會以q值不同繪製出不同的線。故我們需要將每次的實驗結果存到不同q值的資料夾內。因為每次($q$值不同時)實驗都會重複100遍，我們就這100張圖，每張圖都把所有$\\delta值$做1次實驗。這樣一來對每個$\\delta$值而言，每個$q$值都有100個來自不同圖的實驗結果，不會有統計上bias之問題。"
   ]
  },
  {
   "cell_type": "code",
   "execution_count": 50,
   "metadata": {},
   "outputs": [
    {
     "name": "stderr",
     "output_type": "stream",
     "text": [
      "100%|████████████████████████████████████████████████████████████████████████████████████| 1/1 [00:09<00:00,  9.97s/it]\n"
     ]
    }
   ],
   "source": [
    "for i in tqdm(range(0,100)):\n",
    "    for delta in deltas:\n",
    "        # BEC channel\n",
    "        transmitter_nodes_model = [x for x in list(model.nodes()) if isinstance(x, int)]\n",
    "        reciever_nodes_model = [x for x in list(model.nodes()) if isinstance(x, str)]\n",
    "\n",
    "        V_delta = [] # 丟銅板決定要不要加入某個node\n",
    "        for v in transmitter_nodes_model:\n",
    "            p=random.random()\n",
    "            if p<=delta:\n",
    "                V_delta.append(v)\n",
    "        E_delta = model.edges(V_delta)\n",
    "\n",
    "        G_delta = nx.Graph()\n",
    "        G_delta.add_nodes_from(V_delta, bipartite=0)\n",
    "        G_delta.add_nodes_from(reciever_nodes_model, bipartite=1)\n",
    "        G_delta.add_edges_from(E_delta)\n",
    "\n",
    "        # LDPC Decode\n",
    "        # Step 1. 蒐集一些等等算metric時要用的串列\n",
    "        transmitter_nodes = [x for x in list(G_delta.nodes()) if isinstance(x, int)]\n",
    "        reciever_nodes = [x for x in list(G_delta.nodes()) if isinstance(x, str)]\n",
    "\n",
    "        m = len(model.edges()) # 邊的總數\n",
    "        trans_d1_edge = [e for e in list(E_delta) if (model.degree(e[0])==d1)] # E_\\delta中原本transmitter端degree為d的邊\n",
    "        trans_d2_edge = [e for e in list(E_delta) if (model.degree(e[0])==d2)] # E_\\delta中原本trans端degree為2d的邊\n",
    "        rec_Gd1_edge = [e for e in list(E_delta) if (model.degree(e[1])==G*d1)] # E_\\delta中原本receiver端degree為d的邊\n",
    "        rec_Gd2_edge = [e for e in list(E_delta) if (model.degree(e[1])==G*d2)] # E_\\delta中原本receiver端degree為2d的邊\n",
    "        trans_d1_node = [x for x in transmitter_nodes if (model.degree(x)==d1)] # V_\\delta中transmitter端degree為d的點\n",
    "        trans_d2_node = [x for x in transmitter_nodes if (model.degree(x)==d2)] # V_\\delta中transmitter端degree為2d的點\n",
    "        \n",
    "        # Step 2. SIC演算法\n",
    "        deg1_r = len([x for x in reciever_nodes if (G_delta.degree(x)==1)]) # 當下reciver中degree為1的點的總數\n",
    "        while(deg1_r != 0):\n",
    "            for node in reciever_nodes:\n",
    "                if (G_delta.degree(node) == 1): # 找出reciever中degree為1的點\n",
    "                    w, v = list(G_delta.edges([node]))[0] # 令這條唯一的邊叫做(w,v),v是transmitter上的點,w是reciever上的點\n",
    "                    remove = list(G_delta.edges(v))\n",
    "                    G_delta.remove_edges_from(remove) # 刪除這些邊\n",
    "            \n",
    "            deg1_r = len([x for x in reciever_nodes if (G_delta.degree(x)==1)]) # update\n",
    "\n",
    "        # Step 3. 計算各個Metric\n",
    "        ad1_limit = len([x for x in trans_d1_edge if (G_delta.degree(x[0])!=0)]) / mt1\n",
    "        ad2_limit = len([x for x in trans_d2_edge if (G_delta.degree(x[0])!=0)]) / mt2\n",
    "        alpha = len([x for x in E_delta if (G_delta.degree(x[0])!=0)]) / m\n",
    "        bGd1_limit = len([x for x in rec_Gd1_edge if (G_delta.degree(x[1])!=0)]) / mr1\n",
    "        bGd2_limit = len([x for x in rec_Gd2_edge if (G_delta.degree(x[1])!=0)]) / mr2\n",
    "        beta = len([x for x in E_delta if (G_delta.degree(x[1])!=0)]) / m\n",
    "        yd1_limit = 1 - len([x for x in trans_d1_node if (G_delta.degree(x)!=0)]) / len(trans_d1_node)\n",
    "        yd2_limit = 1 - len([x for x in trans_d2_node if (G_delta.degree(x)!=0)]) / len(trans_d2_node)\n",
    "        gamma = 1 - len([x for x in transmitter_nodes if (G_delta.degree(x)!=0)]) / N\n",
    "\n",
    "        # Step 4. 將結果寫入檔案\n",
    "        with open(result_dir  + str(f'{delta:.4f}') + '.csv', 'a', newline = '') as csvFile:\n",
    "            csvWriter = csv.writer(csvFile, delimiter = ',')\n",
    "            csvWriter.writerow([ad1_limit, ad2_limit, alpha, bGd1_limit, bGd2_limit, beta, yd1_limit, yd2_limit, gamma])"
   ]
  }
 ],
 "metadata": {
  "kernelspec": {
   "display_name": "Python 3 (ipykernel)",
   "language": "python",
   "name": "python3"
  },
  "language_info": {
   "codemirror_mode": {
    "name": "ipython",
    "version": 3
   },
   "file_extension": ".py",
   "mimetype": "text/x-python",
   "name": "python",
   "nbconvert_exporter": "python",
   "pygments_lexer": "ipython3",
   "version": "3.8.3"
  }
 },
 "nbformat": 4,
 "nbformat_minor": 4
}
